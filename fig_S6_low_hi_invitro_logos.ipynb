{
 "cells": [
  {
   "cell_type": "code",
   "execution_count": 1,
   "metadata": {
    "ExecuteTime": {
     "end_time": "2021-04-01T22:23:13.468109Z",
     "start_time": "2021-04-01T22:23:12.612743Z"
    }
   },
   "outputs": [],
   "source": [
    "# Standard imports\n",
    "import pandas as pd\n",
    "import numpy as np\n",
    "import matplotlib.pyplot as plt\n",
    "import logomaker\n",
    "import time\n",
    "import glob\n",
    "%matplotlib inline\n",
    "\n",
    "# Import marginalization function\n",
    "from utils import x_to_ct_df\n",
    "\n",
    "# For drawing rectangles\n",
    "from matplotlib.patches import Rectangle\n",
    "pink = np.array([247, 198, 219])/256\n",
    "purple = np.array([126, 66, 149])/256\n",
    "red = np.array([228, 33, 63])/256\n",
    "\n",
    "# Load figure style\n",
    "plt.style.use('fig_style.txt')"
   ]
  },
  {
   "cell_type": "code",
   "execution_count": 2,
   "metadata": {
    "ExecuteTime": {
     "end_time": "2021-04-01T22:23:22.419564Z",
     "start_time": "2021-04-01T22:23:13.469922Z"
    },
    "scrolled": true
   },
   "outputs": [
    {
     "name": "stdout",
     "output_type": "stream",
     "text": [
      "6-7: ..\n",
      "7-8: ..\n",
      "8-9: ..\n",
      "Execution time:6.77 sec.\n"
     ]
    },
    {
     "name": "stderr",
     "output_type": "stream",
     "text": [
      "<ipython-input-2-ba87544b7593>:113: UserWarning: Matplotlib is currently using module://ipykernel.pylab.backend_inline, which is a non-GUI backend, so cannot show the figure.\n",
      "  fig.show()\n"
     ]
    },
    {
     "data": {
      "image/png": "[encoded data removed]",
      "text/plain": [
       "<Figure size 381.6x252 with 9 Axes>"
      ]
     },
     "metadata": {
      "needs_background": "light"
     },
     "output_type": "display_data"
    }
   ],
   "source": [
    "### Draw figure\n",
    "\n",
    "# Set replicate\n",
    "rep = 'rep2'\n",
    "\n",
    "# Set figure font properties\n",
    "from matplotlib.font_manager import FontProperties\n",
    "figtext_font = FontProperties()\n",
    "figtext_font.set_weight('semibold')\n",
    "figtext_font.set_size('9')\n",
    "\n",
    "# Rows index positions\n",
    "poss = [6,7,8]\n",
    "poss_labels = [f'{pos}-{pos+1}' for pos in poss]\n",
    "nrows = len(poss)\n",
    "\n",
    "# Concentrations to use\n",
    "concs = [40, 640]\n",
    "conc_labels = ['low [UpA]', 'high [UpA]']\n",
    "ncols = len(concs)\n",
    "\n",
    "# Set figsize\n",
    "figsize=[5.3, 3.5]\n",
    "\n",
    "# Create figure\n",
    "fig = plt.figure(constrained_layout=True, figsize=figsize)\n",
    "gs = fig.add_gridspec(nrows=nrows, ncols=ncols+1,\n",
    "                      width_ratios=[.3,1,1],\n",
    "                      left=.05, right=.99, bottom=.05, top=.90,\n",
    "                      wspace=.2, hspace=.2)\n",
    "\n",
    "# Draw logos within figure\n",
    "t = time.time()\n",
    "for i, pos in enumerate(poss):\n",
    "\n",
    "    # Print position for feedback\n",
    "    pos_label = poss_labels[i]\n",
    "    print(f'{pos_label}: ', end='')\n",
    "    \n",
    "    # Write position\n",
    "    ax = fig.add_subplot(gs[i,0])\n",
    "    ax.set_ylim([0,1])\n",
    "    ax.set_xlim([0,1])\n",
    "    ax.text(x=.5, y=.5, s=pos_label, ha='center', va='center', fontproperties=figtext_font)\n",
    "    ax.axis('off')\n",
    "    \n",
    "    # For each position to display\n",
    "    for j, conc in enumerate(concs):\n",
    "\n",
    "        # Provided feedback on progress\n",
    "        print('.', end='')\n",
    "\n",
    "        # Load logo\n",
    "        logo_file_name = f'csv_logos/invitro_p{pos}_{conc}uM_{rep}_logo.csv'\n",
    "        logo_df = pd.read_csv(logo_file_name, index_col=0)\n",
    "\n",
    "        # Draw logo\n",
    "        ax = fig.add_subplot(gs[i,j+1])\n",
    "        logo = logomaker.Logo(df=logo_df,\n",
    "                               ax=ax,\n",
    "                               font_name='Arial Rounded MT Bold',\n",
    "                               show_spines=False,\n",
    "                               flip_below=False)\n",
    "        ax.spines['left'].set_visible(True)\n",
    "\n",
    "        # Color logo\n",
    "        logo.style_glyphs(color=red)\n",
    "        logo.style_glyphs_below(color='k')\n",
    "        for c in 'ACGT':\n",
    "            for k in range(1,11):\n",
    "                if (k != pos-1) and (k != pos+2):\n",
    "                    logo.style_single_glyph(c=c, p=k, color='gray')\n",
    "                  \n",
    "        # Style plot\n",
    "        if i==0:\n",
    "            ax.set_title(conc_labels[j], fontproperties=figtext_font)\n",
    "        if i in [0,1]:\n",
    "            yticks=[-2,-1,0,1,2]\n",
    "            ylim=[-2,2]\n",
    "            rect_height = 1\n",
    "        elif i in [2]:\n",
    "            yticks=[-4,-2,0,2,4]\n",
    "            ylim=[-4,4]\n",
    "            rect_height = 2  \n",
    "        ax.set_yticks(yticks)\n",
    "        ax.set_ylim(ylim)\n",
    "        ax.set_xticks(range(1,11))\n",
    "        if j==0:\n",
    "            ax.set_ylabel('enrichment', labelpad=.5)\n",
    "        ax.set_xlabel('base pairs from -10', labelpad=.5)\n",
    "        ax.tick_params(axis='x', length=0, pad=0)\n",
    "        \n",
    "        # Gray out positions with zero entries\n",
    "        for l in logo_df.index:\n",
    "            if l not in [pos, pos+1]:\n",
    "                if (logo_df==0).all(axis=1)[l]:\n",
    "                    patch = Rectangle((l-.5, ylim[0]), 1, height, \n",
    "                                      facecolor='lightgray', edgecolor='lightgray')\n",
    "                    ax.add_patch(patch)\n",
    "        \n",
    "        # Create rectangular patches\n",
    "        rect_kwargs = {'linewidth':.5, 'edgecolor':'k'}\n",
    "        ax.add_patch(Rectangle((pos-.4,-.5*rect_height), .8, rect_height, facecolor=pink, **rect_kwargs))\n",
    "        ax.add_patch(Rectangle((pos+.6,-.5*rect_height), .8, rect_height, facecolor=purple, **rect_kwargs))\n",
    "\n",
    "    # Feedback\n",
    "    print('')\n",
    "    \n",
    "# Show execution time\n",
    "print(f'Execution time:{time.time()-t:.2f} sec.')\n",
    "\n",
    "# Tighten layout and save\n",
    "fig.show()\n",
    "fig.savefig(f'figures/fig_S6_invitro_{rep}_logos.pdf')"
   ]
  },
  {
   "cell_type": "code",
   "execution_count": null,
   "metadata": {},
   "outputs": [],
   "source": []
  }
 ],
 "metadata": {
  "kernelspec": {
   "display_name": "Python 3",
   "language": "python",
   "name": "python3"
  },
  "language_info": {
   "codemirror_mode": {
    "name": "ipython",
    "version": 3
   },
   "file_extension": ".py",
   "mimetype": "text/x-python",
   "name": "python",
   "nbconvert_exporter": "python",
   "pygments_lexer": "ipython3",
   "version": "3.8.0"
  },
  "varInspector": {
   "cols": {
    "lenName": 16,
    "lenType": 16,
    "lenVar": 40
   },
   "kernels_config": {
    "python": {
     "delete_cmd_postfix": "",
     "delete_cmd_prefix": "del ",
     "library": "var_list.py",
     "varRefreshCmd": "print(var_dic_list())"
    },
    "r": {
     "delete_cmd_postfix": ") ",
     "delete_cmd_prefix": "rm(",
     "library": "var_list.r",
     "varRefreshCmd": "cat(var_dic_list()) "
    }
   },
   "types_to_exclude": [
    "module",
    "function",
    "builtin_function_or_method",
    "instance",
    "_Feature"
   ],
   "window_display": false
  }
 },
 "nbformat": 4,
 "nbformat_minor": 4
}
