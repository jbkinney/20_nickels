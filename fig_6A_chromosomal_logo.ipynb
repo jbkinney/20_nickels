{
 "cells": [
  {
   "cell_type": "code",
   "execution_count": 1,
   "metadata": {
    "ExecuteTime": {
     "end_time": "2021-04-01T22:18:09.648919Z",
     "start_time": "2021-04-01T22:18:08.787203Z"
    }
   },
   "outputs": [],
   "source": [
    "import pandas as pd\n",
    "import numpy as np\n",
    "import matplotlib.pyplot as plt\n",
    "import logomaker\n",
    "import re\n",
    "import pdb\n",
    "import glob\n",
    "%matplotlib inline\n",
    "\n",
    "# For drawing rectangles\n",
    "from matplotlib.patches import Rectangle\n",
    "pink = np.array([247, 198, 219])/256\n",
    "purple = np.array([126, 66, 149])/256\n",
    "red = np.array([228, 33, 63])/256\n",
    "\n",
    "# Load figure style\n",
    "plt.style.use('fig_style.txt')"
   ]
  },
  {
   "cell_type": "code",
   "execution_count": 2,
   "metadata": {
    "ExecuteTime": {
     "end_time": "2021-04-01T22:18:11.480242Z",
     "start_time": "2021-04-01T22:18:09.650656Z"
    }
   },
   "outputs": [
    {
     "name": "stdout",
     "output_type": "stream",
     "text": [
      "done making figures/fig_6A_chromosomal_logo.pdf. \n"
     ]
    },
    {
     "data": {
      "image/png": "[encoded data removed]",
      "text/plain": [
       "<Figure size 198x108 with 1 Axes>"
      ]
     },
     "metadata": {
      "needs_background": "light"
     },
     "output_type": "display_data"
    }
   ],
   "source": [
    "# Load logo\n",
    "logo_file_name = 'csv_logos/chromosomal_logo.csv'\n",
    "logo_df = pd.read_csv(logo_file_name, index_col=0)\n",
    "\n",
    "# Create a figure\n",
    "fig, ax = plt.subplots(1, 1,\n",
    "                       figsize=[2.75,1.5], \n",
    "                       sharex=False, sharey=False)\n",
    "\n",
    "# Draw logo\n",
    "logo = logomaker.Logo(df=logo_df,\n",
    "                      ax=ax,\n",
    "                      center_values=True,\n",
    "                      font_name='Arial Rounded MT Bold',\n",
    "                      show_spines=False,\n",
    "                      flip_below=False)\n",
    "\n",
    "# Color glyphs\n",
    "logo.style_glyphs(color=red)\n",
    "logo.style_glyphs_below(color='k')\n",
    "pos=5\n",
    "for c in 'ACGT':\n",
    "    for k in range(1,11):\n",
    "        if (k != pos-1) and (k != pos+2):\n",
    "            logo.style_single_glyph(c=c, p=k, color='gray')\n",
    "\n",
    "# Annotate plots, etc.\n",
    "ax.spines['left'].set_visible(True)\n",
    "ax.set_ylim([-2, 2])\n",
    "ax.set_yticks([-2, -1, 0, 1, 2])\n",
    "ax.set_xticks(logo_df.index)\n",
    "ax.set_ylabel('enrichment', labelpad=.5)\n",
    "ax.set_xlabel('base pairs from -10', labelpad=.5)\n",
    "ax.tick_params(axis='x', length=0, pad=0)\n",
    "\n",
    "# Create a Rectangle patch\n",
    "from matplotlib.patches import Rectangle\n",
    "ax.add_patch(Rectangle((pos-.4,-.5),.8,1,linewidth=.5,edgecolor='k',facecolor=pink))\n",
    "ax.add_patch(Rectangle((pos+.6,-.5),.8,1,linewidth=.5,edgecolor='k',facecolor=purple))\n",
    "\n",
    "# Finalize and save plot\n",
    "fig.tight_layout() \n",
    "file_name = 'figures/fig_6A_chromosomal_logo.pdf'\n",
    "fig.savefig(file_name)\n",
    "print(f'done making {file_name}. ')"
   ]
  },
  {
   "cell_type": "code",
   "execution_count": null,
   "metadata": {},
   "outputs": [],
   "source": []
  }
 ],
 "metadata": {
  "kernelspec": {
   "display_name": "Python 3",
   "language": "python",
   "name": "python3"
  },
  "language_info": {
   "codemirror_mode": {
    "name": "ipython",
    "version": 3
   },
   "file_extension": ".py",
   "mimetype": "text/x-python",
   "name": "python",
   "nbconvert_exporter": "python",
   "pygments_lexer": "ipython3",
   "version": "3.8.0"
  },
  "varInspector": {
   "cols": {
    "lenName": 16,
    "lenType": 16,
    "lenVar": 40
   },
   "kernels_config": {
    "python": {
     "delete_cmd_postfix": "",
     "delete_cmd_prefix": "del ",
     "library": "var_list.py",
     "varRefreshCmd": "print(var_dic_list())"
    },
    "r": {
     "delete_cmd_postfix": ") ",
     "delete_cmd_prefix": "rm(",
     "library": "var_list.r",
     "varRefreshCmd": "cat(var_dic_list()) "
    }
   },
   "types_to_exclude": [
    "module",
    "function",
    "builtin_function_or_method",
    "instance",
    "_Feature"
   ],
   "window_display": false
  }
 },
 "nbformat": 4,
 "nbformat_minor": 4
}
